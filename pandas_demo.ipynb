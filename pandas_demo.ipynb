{
 "cells": [
  {
   "cell_type": "markdown",
   "id": "834ff5d9",
   "metadata": {},
   "source": [
    "### Series - for one dimentional"
   ]
  },
  {
   "cell_type": "code",
   "execution_count": 3,
   "id": "065534bb",
   "metadata": {},
   "outputs": [
    {
     "name": "stdout",
     "output_type": "stream",
     "text": [
      "Day 1    100\n",
      "Day 2    200\n",
      "Day 3    300\n",
      "dtype: int64\n"
     ]
    }
   ],
   "source": [
    "import pandas as pd\n",
    "\n",
    "series = pd.Series([100,200,300], index= ['Day 1', 'Day 2', 'Day 3'])\n",
    "\n",
    "print(series)"
   ]
  },
  {
   "cell_type": "markdown",
   "id": "458464f7",
   "metadata": {},
   "source": [
    "### Data Frame"
   ]
  },
  {
   "cell_type": "code",
   "execution_count": 35,
   "id": "8c77eef1",
   "metadata": {},
   "outputs": [
    {
     "name": "stdout",
     "output_type": "stream",
     "text": [
      "          2015  2020      2025\n",
      "Car Name   BMW  Audi  Mercedes\n",
      "Price     3000  4000      5000\n"
     ]
    },
    {
     "data": {
      "text/plain": [
       "2015         BMW\n",
       "2020        Audi\n",
       "2025    Mercedes\n",
       "Name: Car Name, dtype: object"
      ]
     },
     "execution_count": 35,
     "metadata": {},
     "output_type": "execute_result"
    }
   ],
   "source": [
    "data = pd.DataFrame({'cars': ['BMW', 'Audi', 'Mercedes'],'price':[1000,2000,3000]})\n",
    "\n",
    "data1 = pd.DataFrame(\n",
    "   [ ['BMW', 'Audi', 'Mercedes'],[3000,4000,5000]], index=['Car Name','Price'], columns=[2015,2020,2025])\n",
    "\n",
    "print(data1)\n",
    "data1.loc['Car Name']\n"
   ]
  },
  {
   "cell_type": "code",
   "execution_count": 61,
   "id": "58a13fc2",
   "metadata": {},
   "outputs": [
    {
     "data": {
      "application/vnd.microsoft.datawrangler.viewer.v0+json": {
       "columns": [
        {
         "name": "index",
         "rawType": "int64",
         "type": "integer"
        },
        {
         "name": "Gender",
         "rawType": "object",
         "type": "string"
        },
        {
         "name": "Age",
         "rawType": "float64",
         "type": "float"
        },
        {
         "name": "Height",
         "rawType": "float64",
         "type": "float"
        },
        {
         "name": "Weight",
         "rawType": "float64",
         "type": "float"
        },
        {
         "name": "family_history",
         "rawType": "object",
         "type": "string"
        },
        {
         "name": "FAVC",
         "rawType": "object",
         "type": "string"
        },
        {
         "name": "FCVC",
         "rawType": "float64",
         "type": "float"
        },
        {
         "name": "NCP",
         "rawType": "float64",
         "type": "float"
        },
        {
         "name": "CAEC",
         "rawType": "object",
         "type": "string"
        },
        {
         "name": "SMOKE",
         "rawType": "object",
         "type": "string"
        },
        {
         "name": "CH2O",
         "rawType": "float64",
         "type": "float"
        },
        {
         "name": "SCC",
         "rawType": "object",
         "type": "string"
        },
        {
         "name": "FAF",
         "rawType": "float64",
         "type": "float"
        },
        {
         "name": "TUE",
         "rawType": "float64",
         "type": "float"
        },
        {
         "name": "CALC",
         "rawType": "object",
         "type": "string"
        },
        {
         "name": "MTRANS",
         "rawType": "object",
         "type": "string"
        },
        {
         "name": "Obesity",
         "rawType": "object",
         "type": "string"
        }
       ],
       "conversionMethod": "pd.DataFrame",
       "ref": "90ac2a35-429e-42c8-b3bc-e5b0cfeb4c13",
       "rows": [],
       "shape": {
        "columns": 17,
        "rows": 0
       }
      },
      "text/html": [
       "<div>\n",
       "<style scoped>\n",
       "    .dataframe tbody tr th:only-of-type {\n",
       "        vertical-align: middle;\n",
       "    }\n",
       "\n",
       "    .dataframe tbody tr th {\n",
       "        vertical-align: top;\n",
       "    }\n",
       "\n",
       "    .dataframe thead th {\n",
       "        text-align: right;\n",
       "    }\n",
       "</style>\n",
       "<table border=\"1\" class=\"dataframe\">\n",
       "  <thead>\n",
       "    <tr style=\"text-align: right;\">\n",
       "      <th></th>\n",
       "      <th>Gender</th>\n",
       "      <th>Age</th>\n",
       "      <th>Height</th>\n",
       "      <th>Weight</th>\n",
       "      <th>family_history</th>\n",
       "      <th>FAVC</th>\n",
       "      <th>FCVC</th>\n",
       "      <th>NCP</th>\n",
       "      <th>CAEC</th>\n",
       "      <th>SMOKE</th>\n",
       "      <th>CH2O</th>\n",
       "      <th>SCC</th>\n",
       "      <th>FAF</th>\n",
       "      <th>TUE</th>\n",
       "      <th>CALC</th>\n",
       "      <th>MTRANS</th>\n",
       "      <th>Obesity</th>\n",
       "    </tr>\n",
       "  </thead>\n",
       "  <tbody>\n",
       "  </tbody>\n",
       "</table>\n",
       "</div>"
      ],
      "text/plain": [
       "Empty DataFrame\n",
       "Columns: [Gender, Age, Height, Weight, family_history, FAVC, FCVC, NCP, CAEC, SMOKE, CH2O, SCC, FAF, TUE, CALC, MTRANS, Obesity]\n",
       "Index: []"
      ]
     },
     "execution_count": 61,
     "metadata": {},
     "output_type": "execute_result"
    }
   ],
   "source": [
    "data = pd.read_csv('./obesity_prediction.csv')\n",
    "\n",
    "data.loc[(data['Age'] > 30) & (data['Weight'] > 130) ]"
   ]
  },
  {
   "cell_type": "code",
   "execution_count": null,
   "id": "22571c06",
   "metadata": {},
   "outputs": [],
   "source": []
  }
 ],
 "metadata": {
  "kernelspec": {
   "display_name": "nbenv",
   "language": "python",
   "name": "python3"
  },
  "language_info": {
   "codemirror_mode": {
    "name": "ipython",
    "version": 3
   },
   "file_extension": ".py",
   "mimetype": "text/x-python",
   "name": "python",
   "nbconvert_exporter": "python",
   "pygments_lexer": "ipython3",
   "version": "3.13.3"
  }
 },
 "nbformat": 4,
 "nbformat_minor": 5
}
