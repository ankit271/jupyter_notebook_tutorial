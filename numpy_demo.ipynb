{
 "cells": [
  {
   "cell_type": "markdown",
   "id": "b41a7c9b",
   "metadata": {},
   "source": [
    "### create array"
   ]
  },
  {
   "cell_type": "code",
   "execution_count": 58,
   "id": "6ff75042",
   "metadata": {},
   "outputs": [
    {
     "name": "stdout",
     "output_type": "stream",
     "text": [
      "[[0.09379687 0.85861325]\n",
      " [0.35497123 0.26527753]]\n"
     ]
    }
   ],
   "source": [
    "from numpy import random\n",
    "\n",
    "num = random.rand(2,2)\n",
    "\n",
    "print(num)\n"
   ]
  }
 ],
 "metadata": {
  "kernelspec": {
   "display_name": "nbenv",
   "language": "python",
   "name": "python3"
  },
  "language_info": {
   "codemirror_mode": {
    "name": "ipython",
    "version": 3
   },
   "file_extension": ".py",
   "mimetype": "text/x-python",
   "name": "python",
   "nbconvert_exporter": "python",
   "pygments_lexer": "ipython3",
   "version": "3.13.3"
  }
 },
 "nbformat": 4,
 "nbformat_minor": 5
}
