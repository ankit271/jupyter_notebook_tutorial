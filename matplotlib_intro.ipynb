{
 "cells": [
  {
   "cell_type": "markdown",
   "id": "98538628",
   "metadata": {},
   "source": []
  },
  {
   "cell_type": "markdown",
   "id": "6a5ad8f9",
   "metadata": {},
   "source": [
    "### Pairwise Data\n"
   ]
  },
  {
   "cell_type": "code",
   "execution_count": null,
   "id": "07db204b",
   "metadata": {},
   "outputs": [],
   "source": [
    "import matplotlib.pyplot as plt\n",
    "\n",
    "plt.plot([10,20,40,50,60],[2020,2021,2022,2023,2024],'ro')\n",
    "plt.ylabel('Year')\n",
    "plt.xlabel(\"Jobs\")\n",
    "plt.title(\"Jobs in IT\")\n",
    "plt.savefig(\"jobs.png\",dpi=1000)\n",
    "plt.show()"
   ]
  },
  {
   "cell_type": "markdown",
   "id": "e2407135",
   "metadata": {},
   "source": [
    "### Statistical Dist"
   ]
  },
  {
   "cell_type": "code",
   "execution_count": null,
   "id": "a64bfa7f",
   "metadata": {},
   "outputs": [],
   "source": [
    "import numpy as np\n",
    "\n",
    "# Generate random data\n",
    "data = np.random.randn(10)\n",
    "\n",
    "print(data )"
   ]
  },
  {
   "cell_type": "code",
   "execution_count": null,
   "id": "da037d60",
   "metadata": {},
   "outputs": [],
   "source": [
    "import matplotlib.pyplot as plt\n",
    "import numpy as np\n",
    "\n",
    "# Generate random data\n",
    "data = np.random.randn(10)\n",
    "\n",
    "# Create histogram\n",
    "plt.hist(data, bins=40, color='blue', alpha=0.7)\n",
    "plt.title('Histogram Example')\n",
    "plt.xlabel('Value')\n",
    "plt.ylabel('Frequency')\n",
    "plt.show()"
   ]
  },
  {
   "cell_type": "markdown",
   "id": "533f858a",
   "metadata": {},
   "source": [
    "### pie chart\n"
   ]
  },
  {
   "cell_type": "code",
   "execution_count": null,
   "id": "f9ba1e6e",
   "metadata": {},
   "outputs": [],
   "source": [
    "import matplotlib.pyplot as plt\n",
    "\n",
    "# Data for the pie chart\n",
    "sizes = [35, 25, 25, 15]\n",
    "labels = [\"Apples\", \"Bananas\", \"Cherries\", \"Dates\"]\n",
    "colors = [\"red\", \"yellow\", \"pink\", \"brown\"]\n",
    "\n",
    "# Create the pie chart\n",
    "plt.pie(sizes, labels=labels, colors=colors, autopct='%1.1f%%', startangle=90)\n",
    "plt.title(\"Fruit Distribution\")\n",
    "plt.legend(loc=\"upper right\")\n",
    "plt.show()"
   ]
  }
 ],
 "metadata": {
  "kernelspec": {
   "display_name": "nbenv",
   "language": "python",
   "name": "python3"
  },
  "language_info": {
   "codemirror_mode": {
    "name": "ipython",
    "version": 3
   },
   "file_extension": ".py",
   "mimetype": "text/x-python",
   "name": "python",
   "nbconvert_exporter": "python",
   "pygments_lexer": "ipython3",
   "version": "3.13.3"
  }
 },
 "nbformat": 4,
 "nbformat_minor": 5
}
